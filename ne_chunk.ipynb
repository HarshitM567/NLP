{
 "cells": [
  {
   "cell_type": "code",
   "execution_count": 12,
   "id": "initial_id",
   "metadata": {
    "collapsed": true,
    "ExecuteTime": {
     "end_time": "2024-04-12T10:45:57.752240Z",
     "start_time": "2024-04-12T10:43:50.356315Z"
    }
   },
   "outputs": [
    {
     "name": "stdout",
     "output_type": "stream",
     "text": [
      "Entity: jÃ¼rgen, Type: ORGANIZATION, Count: 5\n",
      "Entity: hrbatÃ½, Type: ORGANIZATION, Count: 4\n",
      "Entity: clijstersâ€, Type: PERSON, Count: 1\n",
      "Entity: mÃ¼nchenstein, Type: ORGANIZATION, Count: 4\n",
      "Entity: gastÃ³n, Type: ORGANIZATION, Count: 2\n",
      "Entity: klÃ¼ft, Type: ORGANIZATION, Count: 4\n",
      "Entity: schÃ¼ttler, Type: ORGANIZATION, Count: 1\n",
      "Entity: lÃ³pez, Type: ORGANIZATION, Count: 1\n",
      "Entity: afro-eurasia, Type: GPE, Count: 2\n",
      "Entity: erdoÄŸan, Type: ORGANIZATION, Count: 2\n",
      "Entity: iraqâ€, Type: GPE, Count: 1\n",
      "Entity: cliÃ©, Type: PERSON, Count: 2\n",
      "Entity: amazon.com, Type: ORGANIZATION, Count: 5\n",
      "Entity: mikoliÅ, Type: ORGANIZATION, Count: 1\n",
      "Entity: godÃ³, Type: ORGANIZATION, Count: 1\n",
      "Entity: glyndÅµr, Type: ORGANIZATION, Count: 1\n",
      "Entity: weiÃŸe, Type: ORGANIZATION, Count: 1\n",
      "Entity: cuarÃ³n, Type: ORGANIZATION, Count: 1\n",
      "Entity: crÃ¼e, Type: ORGANIZATION, Count: 1\n",
      "Entity: raÃºl, Type: ORGANIZATION, Count: 1\n",
      "Entity: u.s., Type: GPE, Count: 22\n",
      "Entity: gaÃ, Type: ORGANIZATION, Count: 1\n",
      "Entity: russian, Type: GPE, Count: 10\n",
      "Entity: mondelÄ, Type: ORGANIZATION, Count: 2\n",
      "Entity: sÃ½r, Type: ORGANIZATION, Count: 1\n",
      "Entity: moÃ, Type: ORGANIZATION, Count: 2\n",
      "Entity: noÃ, Type: ORGANIZATION, Count: 1\n",
      "Entity: strÃ¼ngmann, Type: ORGANIZATION, Count: 1\n",
      "Entity: garzÃ³n, Type: ORGANIZATION, Count: 1\n",
      "Entity: citroÃ, Type: ORGANIZATION, Count: 1\n",
      "Entity: vergnÃ¼gte, Type: ORGANIZATION, Count: 1\n",
      "Entity: pleiÃŸenstadt, Type: ORGANIZATION, Count: 1\n",
      "Entity: d.s., Type: GPE, Count: 1\n",
      "Entity: clinton, Type: PERSON, Count: 1\n",
      "Entity: sino-russian, Type: GPE, Count: 3\n",
      "Entity: sÃ¼reyya serdengeÃ§ti, Type: ORGANIZATION, Count: 1\n",
      "Entity: graubÃ¼nden, Type: ORGANIZATION, Count: 2\n"
     ]
    }
   ],
   "source": [
    "import nltk\n",
    "from collections import Counter\n",
    "\n",
    "# Open and read the bbc_news.txt file\n",
    "with open('bbc_news.txt', 'r', encoding='utf-8') as file:\n",
    "    data = file.read()\n",
    "\n",
    "# Tokenize the data\n",
    "tokenized_data = nltk.word_tokenize(data)\n",
    "\n",
    "# Apply POS tagging\n",
    "pos_tagged_data = nltk.pos_tag(tokenized_data)\n",
    "\n",
    "# Apply NER\n",
    "chunked_data = nltk.ne_chunk(pos_tagged_data)\n",
    "\n",
    "# Initialize a Counter object\n",
    "entity_counts = Counter()\n",
    "\n",
    "# Iterate over the chunked data\n",
    "for entity in chunked_data:\n",
    "    if isinstance(entity, nltk.tree.Tree):\n",
    "        entity_type = entity.label()\n",
    "        entity_name = \" \".join([token for token, pos in entity.leaves()])\n",
    "        entity_counts[(entity_name, entity_type)] += 1\n",
    "\n",
    "# Print the entities and their counts\n",
    "for (entity_name, entity_type), count in entity_counts.items():\n",
    "    print(f\"Entity: {entity_name}, Type: {entity_type}, Count: {count}\")"
   ]
  },
  {
   "cell_type": "code",
   "outputs": [],
   "source": [],
   "metadata": {
    "collapsed": false,
    "ExecuteTime": {
     "end_time": "2024-04-12T10:45:57.756356Z",
     "start_time": "2024-04-12T10:45:57.753382Z"
    }
   },
   "id": "731f4c5ea03d3a83",
   "execution_count": 12
  },
  {
   "cell_type": "code",
   "outputs": [],
   "source": [],
   "metadata": {
    "collapsed": false,
    "ExecuteTime": {
     "end_time": "2024-04-12T10:45:57.760226Z",
     "start_time": "2024-04-12T10:45:57.757495Z"
    }
   },
   "id": "cc25fb78aa1d1148",
   "execution_count": 12
  }
 ],
 "metadata": {
  "kernelspec": {
   "display_name": "Python 3",
   "language": "python",
   "name": "python3"
  },
  "language_info": {
   "codemirror_mode": {
    "name": "ipython",
    "version": 2
   },
   "file_extension": ".py",
   "mimetype": "text/x-python",
   "name": "python",
   "nbconvert_exporter": "python",
   "pygments_lexer": "ipython2",
   "version": "2.7.6"
  }
 },
 "nbformat": 4,
 "nbformat_minor": 5
}
