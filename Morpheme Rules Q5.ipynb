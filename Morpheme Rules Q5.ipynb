{
 "cells": [
  {
   "cell_type": "code",
   "execution_count": 1,
   "id": "initial_id",
   "metadata": {
    "collapsed": true,
    "ExecuteTime": {
     "end_time": "2024-03-01T08:11:29.690159400Z",
     "start_time": "2024-03-01T08:11:29.231613600Z"
    }
   },
   "outputs": [
    {
     "name": "stdout",
     "output_type": "stream",
     "text": [
      "Original words: ['Publik', 'publik', 'publik', 'uiuk', 'uiuk', 'uiuk', 'traffik', 'Musik', 'musik', 'publik', 'physik', 'publik', 'rhetorik', 'musik', 'prophetik', 'publik', 'publik', 'critik', 'heretik', 'politik', 'musik', 'musik', 'musik', 'physik', 'frantik', 'politik', 'Traduk', 'physik', 'authentik', 'physik', 'offik', 'hik', 'politik', 'theorik', 'domestik', 'publik', 'musik', 'musik', 'musik', 'musik', 'embrak', 'Musik', 'musik', 'Musik', 'voik', 'publik', 'publik', 'Traduk', 'magik', 'Musik', 'Musik', 'mechanik', 'publik', 'Mechanik', 'plak', 'aspik', 'aspik', 'aspik', 'physik', 'musik', 'publik', 'frantik', 'publik', 'suffik', 'musik', 'physik', 'monastik', 'politik', 'rhetorik', 'politik', 'rustik', 'musik', 'traffik', 'tragik', 'embrak', 'almanak', 'cholerik', 'cholerik', 'musik', 'publik', 'fak', 'lunatik', 'frantik', 'sauk', 'fak', 'fak', 'fabrik', 'publik', 'grak', 'cambrik', 'plak', 'Afrik', 'induk', 'fak', 'sauk', 'publik', 'colik', 'empiricutik', 'physik', 'publik', 'arithmetik', 'fabrik', 'publik', 'havok', 'physik', 'Musik', 'publik', 'garlik', 'publik', 'embrak', 'publik', 'publik', 'Afrik', 'publik', 'publik', 'unseduk', 'lak', 'musik', 'musik', 'chalik', 'musik', 'induk', 'arithmetik', 'domestik', 'physik', 'musik', 'publik', 'sauk', 'rustik', 'musik', 'physik', 'musik', 'musik', 'musik', 'embrak', 'Rejoik', 'grak', 'embrak', 'majestik', 'Osrik', 'traduk', 'prophetik', 'Hik', 'antik', 'musik', 'unbrak', 'musik', 'plak', 'Luk', 'magik', 'musik', 'musik', 'musik', 'musik', 'physik', 'musik', 'politik', 'hectik', 'barefak', 'publik', 'fantastik', 'plak', 'Osrik', 'arithmetik', 'Osrik', 'Osrik', 'Osrik', 'Osrik', 'Osrik', 'havok', 'musik', 'antik', 'fak', 'fak', 'outfak', 'colik', 'garlik', 'musik', 'dik', 'publik', 'fak', 'Disgrak', 'havok', 'musik', 'tragik', 'physik', 'fak', 'musik', 'rheumatik', 'musik', 'almanak', 'fak', 'grak', 'musik', 'musik', 'physik', 'displak', 'fak', 'hok', 'musik', 'musik', 'practik', 'theorik', 'Childerik', 'havok', 'musik', 'mechanik', 'rheumatik', 'fak', 'disgrak', 'fak', 'plak', 'musik', 'musik', 'magik', 'plak', 'publik', 'plak', 'produk', 'publik', 'comik', 'heroik', 'politik', 'physik', 'publik', 'frantik', 'defak', 'musik', 'fak', 'antik', 'Armagnak', 'Armagnak', 'traffik', 'plak', 'plak', 'Armagnak', 'displak', 'publik', 'plak', 'cholerik', 'plak', 'publik', 'musik', 'fleek', 'fak', 'seduk', 'fak', 'musik', 'tragik', 'defak', 'fak', 'stigmatik', 'stigmatik', 'grak', 'plak', 'disgrak', 'fak', 'seduk', 'sacrifik', 'grak', 'tragik', 'comik', 'menak', 'Traduk', 'menak', 'physik', 'musik', 'plak', 'Musik', 'musik', 'archbishoprik', 'produk', 'Induk', 'musik', 'musik', 'disgrak', 'physik', 'heretik', 'Musik', 'musik', 'pak', 'musik', 'musik', 'musik', 'Musik', 'physik', 'heretik', 'physik', 'publik', 'fak', 'suffik', 'seduk', 'fak', 'havok', 'fak', 'havok', 'fak', 'fak', 'heretik', 'heretik', 'prophetik', 'misplak', 'physik', 'brak', 'rhetorik', 'publik', 'Musik', 'musik', 'majestik', 'musik', 'Domestik', 'Havok', 'publik', 'publik', 'publik', 'cholerik', 'cynik', 'Musik', 'musik', 'piek', 'cholerik', 'grak', 'politik', 'fak', 'epileptik', 'lunatik', 'physik', 'lunatik', 'Musik', 'musik', 'domestik', 'publik', 'musik', 'physik', 'physik', 'rhetorik', 'rhetorik', 'critik', 'musik', 'rhetorik', 'critik', 'rhetorik', 'frantik', 'lunatik', 'antik', 'antik', 'musik', 'musik', 'musik', 'outfak', 'fak', 'prophetik', 'domestik', 'traffik', 'magik', 'Musik', 'Musik', 'antik', 'Musik', 'Physik', 'physik', 'fantastik', 'publik', 'embrak', 'fantastik', 'cholerik', 'garlik', 'musik', 'publik', 'physik', 'publik', 'publik', 'publik', 'disgrak', 'musik', 'musik', 'musik', 'musik', 'embrak', 'musik', 'musik', 'musik', 'Musik', 'musik', 'musik', 'musik', 'musik', 'musik', 'musik', 'Musik', 'musik', 'Musik', 'phlegmatik', 'authentik', 'Physik', 'rheumatik', 'politik', 'embrak', 'lunatik', 'hik', 'haek', 'hok', 'heretik', 'publik', 'embrak', 'fak', 'fak', 'rheumatik', 'musik', 'mimik', 'musik', 'musik', 'musik', 'Musik', 'musik', 'musik', 'Musik', 'musik', 'garlik', 'lunatik', 'frantik', 'musik', 'frolik', 'heretik', 'musik', 'musik', 'Musik', 'musik', 'Musik', 'musik', 'musik', 'Musik', 'musik', 'Musik', 'musik', 'fak', 'antik', 'lak', 'plak', 'havok', 'publik', 'disgrak', 'politik', 'musik', 'musik', 'theorik', 'magik', 'magik', 'musik', 'domestik', 'Musik', 'musik', 'musik', 'musik', 'politik', 'Pontik', 'Propontik', 'magik', 'prophetik', 'publik', 'musik', 'tragik', 'Sluik', 'disgrak', 'fantastik', 'musik', 'lunatik', 'fak', 'fak', 'embrak', 'antik', 'frantik', 'fak', 'fak', 'grak', 'voik', 'frantik', 'musik', 'Musik', 'musik', 'musik', 'musik', 'fak', 'disgrak', 'frantik', 'lunatik', 'pak', 'fak', 'defak', 'tragik', 'politik', 'domestik', 'frantik', 'misplak', 'defak', 'Seduk', 'fak', 'musik', 'pak', 'frantik', 'grak', 'disgrak', 'grak', 'fak', 'traffik', 'publik', 'Musik', 'antik', 'musik', 'physik', 'antik', 'musik', 'musik', 'publik', 'publik', 'arithmetik', 'choplogik', 'musik', 'musik', 'musik', 'musik', 'musik', 'musik', 'sacrifik', 'musik', 'lunatik', 'antik', 'musik', 'Musik', 'publik', 'traffik', 'logik', 'rhetorik', 'Musik', 'musik', 'Adriatik', 'musik', 'musik', 'musik', 'lunatik', 'fak', 'musik', 'musik', 'Hik', 'hik', 'Hik', 'Hik', 'hik', 'Hik', 'Hik', 'hik', 'Hik', 'musik', 'frantik', 'lak', 'piek', 'piek', 'Musik', 'cholerik', 'cholerik', 'cholerik', 'fak', 'fak', 'frolik', 'publik', 'lunatik', 'fak', 'magik', 'musik', 'musik', 'Afrik', 'grak', 'traffik', 'musik', 'musik', 'musik', 'musik', 'musik', 'musik', 'musik', 'majestik', 'fabrik', 'musik', 'magik', 'magik', 'musik', 'musik', 'frantik', 'Magik', 'fak', 'Traffik', 'traffik', 'Traffik', 'musik', 'Musik', 'Musik', 'musik', 'publik', 'disgrak', 'politik', 'politik', 'Musik', 'musik', 'physik', 'Domestik', 'Voik', 'vik', 'plak', 'publik', 'publik', 'zodiak', 'grak', 'musik', 'tragik', 'nek', 'fak', 'physik', 'publik', 'frantik', 'frantik', 'fak', 'arithmetik', 'mastik', 'musik', 'authentik', 'Afrik', 'physik', 'prophetik', 'Musik', 'musik', 'musik', 'musik', 'musik', 'musik', 'authentik', 'arithmetik', 'politik', 'musik', 'colik', 'pak', 'fantastik', 'musik', 'musik', 'Plak', 'physik', 'musik', 'Musik', 'Musik', 'politik', 'musik', 'disgrak', 'musik', 'traffik', 'Gorboduk', 'lunatik', 'musik', 'havok', 'fak', 'lak', 'lak', 'musik', 'fantastik', 'musik', 'musik', 'musik', 'musik', 'Musik', 'musik', 'musik', 'musik', 'musik', 'musik', 'plak', 'disgrak', 'embrak', 'Offik', 'disgrak', 'sluik', 'Physik', 'fabrik', 'publik', 'heretik', 'traffik', 'fak', 'rustik', 'garlik', 'Musik', 'musik', 'grak', 'magik', 'Musik', 'Musik', 'magik', 'physik', 'tragik', 'publik', 'electronik', 'specifik', 'publik', 'electronik', 'electronik', 'electronik', 'electronik', 'electronik', 'electronik', 'electronik', 'electronik', 'electronik', 'electronik', 'publik', 'publik', 'electronik', 'electronik', 'publik', 'electronik', 'electronik', 'electronik', 'electronik', 'periodik', 'electronik', 'electronik', 'publik', 'electronik', 'electronik', 'electronik', 'electronik', 'electronik', 'electronik', 'publik', 'publik', 'electronik', 'electronik', 'Publik']\n"
     ]
    }
   ],
   "source": [
    "#Harshit Mittal\n",
    "#21BAI10058\n",
    "#Q5\n",
    "import re\n",
    "\n",
    "def add_k_to_words(text):\n",
    "    # Define a regular expression to find words ending with vowel+c\n",
    "    pattern = re.compile(r'(\\w+[aeiou])c\\b')\n",
    "\n",
    "    # Find all matches in the text\n",
    "    matches = re.findall(pattern, text)\n",
    "\n",
    "    # Generate root forms by adding 'k'\n",
    "    root_words = [word + 'k' for word in matches]\n",
    "\n",
    "    return root_words\n",
    "\n",
    "# Read the content of shakes.txt\n",
    "file_path = 'shakes.txt'\n",
    "with open(file_path, 'r') as file:\n",
    "    text_content = file.read()\n",
    "\n",
    "# Get root words with 'k' added\n",
    "root_words_with_k = add_k_to_words(text_content)\n",
    "\n",
    "# Print the results\n",
    "print(\"Original words:\", root_words_with_k)\n"
   ]
  }
 ],
 "metadata": {
  "kernelspec": {
   "display_name": "Python 3",
   "language": "python",
   "name": "python3"
  },
  "language_info": {
   "codemirror_mode": {
    "name": "ipython",
    "version": 2
   },
   "file_extension": ".py",
   "mimetype": "text/x-python",
   "name": "python",
   "nbconvert_exporter": "python",
   "pygments_lexer": "ipython2",
   "version": "2.7.6"
  }
 },
 "nbformat": 4,
 "nbformat_minor": 5
}
