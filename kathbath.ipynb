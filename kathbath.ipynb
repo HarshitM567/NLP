{
 "cells": [
  {
   "metadata": {
    "ExecuteTime": {
     "end_time": "2024-04-27T07:22:49.446822Z",
     "start_time": "2024-04-27T07:22:49.379595Z"
    }
   },
   "cell_type": "code",
   "source": [
    "import os\n",
    "import glob\n",
    "from jiwer import wer\n",
    "\n",
    "# Define the directory where your files are located\n",
    "ground_truth_dir = 'kathbath/hindi/test/transcription'\n",
    "hypothesis_dir = 'transcript'\n",
    "\n",
    "# Get a list of all the files in the directory\n",
    "ground_truth_files = glob.glob(os.path.join(ground_truth_dir, '*'))\n",
    "hypothesis_files = glob.glob(os.path.join(hypothesis_dir, '*'))\n",
    "\n",
    "# Initialize lists to store the contents of the files\n",
    "ground_truths = []\n",
    "hypotheses = []\n",
    "\n",
    "# Loop over the list of files\n",
    "for gt_file, hp_file in zip(ground_truth_files, hypothesis_files):\n",
    "    # Open each file and read its contents\n",
    "    with open(gt_file, 'r', encoding='utf-8') as f:\n",
    "        ground_truths.append(f.read())\n",
    "    with open(hp_file, 'r', encoding='utf-8') as f:\n",
    "        hypotheses.append(f.read())\n",
    "\n",
    "# Now you have the contents of your ground truth and hypothesis files in the lists `ground_truths` and `hypotheses`\n",
    "\n",
    "# Calculate WER for each pair of ground truth and hypothesis\n",
    "for ground_truth, hypothesis in zip(ground_truths, hypotheses):\n",
    "    error = wer(ground_truth, hypothesis)\n",
    "    print(f\"Word Error Rate: {error}\")"
   ],
   "id": "a9bf75848a934ea0",
   "outputs": [
    {
     "name": "stdout",
     "output_type": "stream",
     "text": [
      "Word Error Rate: 0.9852564412432929\n"
     ]
    }
   ],
   "execution_count": 9
  }
 ],
 "metadata": {
  "kernelspec": {
   "display_name": "Python 3",
   "language": "python",
   "name": "python3"
  },
  "language_info": {
   "codemirror_mode": {
    "name": "ipython",
    "version": 2
   },
   "file_extension": ".py",
   "mimetype": "text/x-python",
   "name": "python",
   "nbconvert_exporter": "python",
   "pygments_lexer": "ipython2",
   "version": "2.7.6"
  }
 },
 "nbformat": 4,
 "nbformat_minor": 5
}
