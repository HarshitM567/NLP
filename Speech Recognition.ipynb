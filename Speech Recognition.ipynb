{
 "cells": [
  {
   "cell_type": "code",
   "id": "initial_id",
   "metadata": {
    "collapsed": true,
    "ExecuteTime": {
     "end_time": "2024-04-27T06:58:41.228293Z",
     "start_time": "2024-04-27T06:55:46.090896Z"
    }
   },
   "source": [
    "import os\n",
    "import glob\n",
    "import speech_recognition as sr\n",
    "\n",
    "# Define the directory where your audio files are located\n",
    "audio_dir = 'kathbath/hindi/test/audio/160'\n",
    "\n",
    "# Get a list of all the audio files in the directory\n",
    "audio_files = glob.glob(os.path.join(audio_dir, '*'))\n",
    "\n",
    "# Initialize recognizer class (for recognizing the speech)\n",
    "r = sr.Recognizer()\n",
    "\n",
    "# Loop over the list of audio files\n",
    "for audio_file in audio_files:\n",
    "    # Load audio to audio_file\n",
    "    with sr.AudioFile(audio_file) as source:\n",
    "        audio_data = r.record(source)\n",
    "        # Convert speech to text\n",
    "        text = r.recognize_google(audio_data, language=\"hi-IN\")\n",
    "        # Write the recognized text to a transcript file\n",
    "        with open('transcript.txt', 'a', encoding='utf-8') as f:\n",
    "          f.write(text + '\\n')"
   ],
   "outputs": [],
   "execution_count": 3
  }
 ],
 "metadata": {
  "kernelspec": {
   "display_name": "Python 3",
   "language": "python",
   "name": "python3"
  },
  "language_info": {
   "codemirror_mode": {
    "name": "ipython",
    "version": 2
   },
   "file_extension": ".py",
   "mimetype": "text/x-python",
   "name": "python",
   "nbconvert_exporter": "python",
   "pygments_lexer": "ipython2",
   "version": "2.7.6"
  }
 },
 "nbformat": 4,
 "nbformat_minor": 5
}
