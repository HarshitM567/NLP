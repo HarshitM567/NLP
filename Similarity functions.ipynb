{
 "cells": [
  {
   "cell_type": "code",
   "id": "initial_id",
   "metadata": {
    "collapsed": true,
    "ExecuteTime": {
     "end_time": "2024-04-25T04:24:18.130919Z",
     "start_time": "2024-04-25T04:24:14.479949Z"
    }
   },
   "source": [
    "import nltk\n",
    "from nltk.corpus import wordnet as wn\n",
    "from nltk.corpus import stopwords\n",
    "from nltk.tokenize import word_tokenize\n",
    "from nltk.stem import WordNetLemmatizer\n",
    "import string   \n",
    "\n",
    "# Define the word pairs\n",
    "word_pairs = [\n",
    "    (\"CD-Rom\", \"Computer\"),\n",
    "    (\"lion\", \"animal\"),\n",
    "    (\"tree\", \"tall\"),\n",
    "    (\"blue\", \"color\"),\n",
    "    (\"Sky\", \"Blue\"),\n",
    "    (\"Mango\", \"Fruit\"),\n",
    "    (\"Mango\", \"Shyam\")\n",
    "]\n",
    "\n",
    "# Calculate the similarity measures for each pair of words\n",
    "for word1, word2 in word_pairs:\n",
    "    synsets1 = wn.synsets(word1)\n",
    "    synsets2 = wn.synsets(word2)\n",
    "    if synsets1 and synsets2:\n",
    "        max_sim = -1.0\n",
    "        max_syn1 = None\n",
    "        max_syn2 = None\n",
    "        # Compare all synsets regardless of their part of speech\n",
    "        for synset1 in synsets1:\n",
    "            for synset2 in synsets2:\n",
    "                sim = synset1.path_similarity(synset2)\n",
    "                if sim is not None and sim > max_sim:\n",
    "                    max_sim = sim\n",
    "                    max_syn1 = synset1\n",
    "                    max_syn2 = synset2\n",
    "        if max_sim != -1.0:\n",
    "            print(f\"Words: {word1}, {word2}\")\n",
    "            print(f\"Path Similarity: {max_sim}\")\n",
    "            print(f\"Wu-Palmer Similarity (WUP): {max_syn1.wup_similarity(max_syn2)}\")\n",
    "            try:\n",
    "                print(f\"Resnik Similarity (RES): {max_syn1.res_similarity(max_syn2, nltk.corpus.wordnet_ic.ic('ic-bnc-add1.dat'))}\")\n",
    "                print(f\"Jiang-Conrath Similarity (JCN): {max_syn1.jcn_similarity(max_syn2, nltk.corpus.wordnet_ic.ic('ic-bnc-add1.dat'))}\")\n",
    "                print(f\"Lin Similarity: {max_syn1.lin_similarity(max_syn2, nltk.corpus.wordnet_ic.ic('ic-bnc-add1.dat'))}\")\n",
    "            except nltk.corpus.reader.wordnet.WordNetError as e:\n",
    "                print(f\"Error: {e}\")\n",
    "    else:\n",
    "        print(f\"No synsets found for either {word1} or {word2}\")"
   ],
   "outputs": [
    {
     "name": "stdout",
     "output_type": "stream",
     "text": [
      "Words: CD-Rom, Computer\n",
      "Path Similarity: 0.14285714285714285\n",
      "Wu-Palmer Similarity (WUP): 0.7\n",
      "Resnik Similarity (RES): 4.097186140934272\n",
      "Jiang-Conrath Similarity (JCN): 0.05316402570740376\n",
      "Lin Similarity: 0.30344936960786495\n",
      "Words: lion, animal\n",
      "Path Similarity: 0.25\n",
      "Wu-Palmer Similarity (WUP): 0.8\n",
      "Resnik Similarity (RES): 2.3520006240547806\n",
      "Jiang-Conrath Similarity (JCN): 0.08721839773211656\n",
      "Lin Similarity: 0.2909186650517459\n",
      "Words: tree, tall\n",
      "Path Similarity: 0.2\n",
      "Wu-Palmer Similarity (WUP): 0.3333333333333333\n",
      "Error: Computing the least common subsumer requires Synset('corner.v.02') and Synset('tall.a.01') to have the same part of speech.\n",
      "Words: blue, color\n",
      "Path Similarity: 0.5\n",
      "Wu-Palmer Similarity (WUP): 0.8\n",
      "Resnik Similarity (RES): 7.187142372192338\n",
      "Jiang-Conrath Similarity (JCN): 0.34726197199618475\n",
      "Lin Similarity: 0.8331008557982442\n",
      "Words: Sky, Blue\n",
      "Path Similarity: 0.5\n",
      "Wu-Palmer Similarity (WUP): 0.9333333333333333\n",
      "Resnik Similarity (RES): 9.375906515884816\n",
      "Jiang-Conrath Similarity (JCN): 2.4919602064320525\n",
      "Lin Similarity: 0.9790482771555951\n",
      "Words: Mango, Fruit\n",
      "Path Similarity: 0.3333333333333333\n",
      "Wu-Palmer Similarity (WUP): 0.9\n",
      "Resnik Similarity (RES): 7.244701557450161\n",
      "Jiang-Conrath Similarity (JCN): 0.14599171363580757\n",
      "Lin Similarity: 0.6790070058928376\n",
      "No synsets found for either Mango or Shyam\n"
     ]
    }
   ],
   "execution_count": 13
  }
 ],
 "metadata": {
  "kernelspec": {
   "display_name": "Python 3",
   "language": "python",
   "name": "python3"
  },
  "language_info": {
   "codemirror_mode": {
    "name": "ipython",
    "version": 2
   },
   "file_extension": ".py",
   "mimetype": "text/x-python",
   "name": "python",
   "nbconvert_exporter": "python",
   "pygments_lexer": "ipython2",
   "version": "2.7.6"
  }
 },
 "nbformat": 4,
 "nbformat_minor": 5
}
