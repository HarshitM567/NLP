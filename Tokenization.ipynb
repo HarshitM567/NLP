{
 "cells": [
  {
   "cell_type": "code",
   "execution_count": 12,
   "id": "initial_id",
   "metadata": {
    "collapsed": true,
    "ExecuteTime": {
     "end_time": "2024-03-05T04:33:06.407132300Z",
     "start_time": "2024-03-05T04:33:06.390627600Z"
    }
   },
   "outputs": [
    {
     "name": "stdout",
     "output_type": "stream",
     "text": [
      "File Name: bbc_news.txt\n",
      "Number of Tokens: 490\n",
      "Total Number of Words Before Tokenization: 421\n"
     ]
    }
   ],
   "source": [
    "import nltk\n",
    "from nltk.tokenize import word_tokenize\n",
    "from pathlib import Path\n",
    "\n",
    "# Function to unicode the given text file\n",
    "def unicode_text(file_path):\n",
    "    with open(file_path, 'r', encoding='utf-8') as file:\n",
    "        text = file.read()\n",
    "    return text\n",
    "\n",
    "# Function to calculate the total number of words in the text\n",
    "def count_words(text):\n",
    "    words = text.split()\n",
    "    return len(words)\n",
    "\n",
    "# File path\n",
    "file_path = 'bbc_news.txt'\n",
    "\n",
    "# Unicode the text file\n",
    "text = unicode_text(file_path)\n",
    "\n",
    "# Function to perform tokenization using NLTK word tokenizer\n",
    "def tokenize_text(text):\n",
    "    tokens = word_tokenize(text)\n",
    "    return tokens\n",
    "\n",
    "# Calculate total number of words before tokenization\n",
    "total_words_before_tokenization = count_words(text)\n",
    "\n",
    "# Tokenize the text using NLTK word tokenizer\n",
    "tokens = tokenize_text(text)\n",
    "\n",
    "# Print the file name and number of tokens\n",
    "print(f\"File Name: {Path(file_path).name}\")\n",
    "print(f\"Number of Tokens: {len(tokens)}\")\n",
    "print(f\"Total Number of Words Before Tokenization: {total_words_before_tokenization}\")\n",
    "\n"
   ]
  }
 ],
 "metadata": {
  "kernelspec": {
   "display_name": "Python 3",
   "language": "python",
   "name": "python3"
  },
  "language_info": {
   "codemirror_mode": {
    "name": "ipython",
    "version": 2
   },
   "file_extension": ".py",
   "mimetype": "text/x-python",
   "name": "python",
   "nbconvert_exporter": "python",
   "pygments_lexer": "ipython2",
   "version": "2.7.6"
  }
 },
 "nbformat": 4,
 "nbformat_minor": 5
}
